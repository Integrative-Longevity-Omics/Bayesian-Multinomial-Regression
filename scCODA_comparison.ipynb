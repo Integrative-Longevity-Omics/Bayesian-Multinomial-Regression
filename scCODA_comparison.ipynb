{
 "cells": [
  {
   "cell_type": "markdown",
   "metadata": {},
   "source": [
    "Summary:\n",
    "Run scCODA approach (Bayesian dirichlet method) for cell type specific compositional analysis across 4 age groups representing the human lifespan. Data includes the CITE-seq dataset of 7 centenarians and 2 younger controls, as well as samples from 2 publicly available single cell datasets of aging and longevity. "
   ]
  },
  {
   "cell_type": "code",
   "execution_count": 1,
   "metadata": {},
   "outputs": [],
   "source": [
    "# Setup\n",
    "import warnings\n",
    "warnings.filterwarnings(\"ignore\")\n",
    "\n",
    "import pandas as pd\n",
    "import scanpy as sc\n",
    "import matplotlib.pyplot as plt\n",
    "import arviz as az\n"
   ]
  },
  {
   "cell_type": "code",
   "execution_count": 2,
   "metadata": {},
   "outputs": [
    {
     "name": "stderr",
     "output_type": "stream",
     "text": [
      "2022-12-06 16:24:41.710541: W tensorflow/stream_executor/platform/default/dso_loader.cc:64] Could not load dynamic library 'libcudart.so.11.0'; dlerror: libcudart.so.11.0: cannot open shared object file: No such file or directory\n",
      "2022-12-06 16:24:41.710593: I tensorflow/stream_executor/cuda/cudart_stub.cc:29] Ignore above cudart dlerror if you do not have a GPU set up on your machine.\n",
      "2022-12-06 16:24:41.847390: E tensorflow/stream_executor/cuda/cuda_blas.cc:2981] Unable to register cuBLAS factory: Attempting to register factory for plugin cuBLAS when one has already been registered\n",
      "2022-12-06 16:24:52.687430: W tensorflow/stream_executor/platform/default/dso_loader.cc:64] Could not load dynamic library 'libnvinfer.so.7'; dlerror: libnvinfer.so.7: cannot open shared object file: No such file or directory\n",
      "2022-12-06 16:24:52.687926: W tensorflow/stream_executor/platform/default/dso_loader.cc:64] Could not load dynamic library 'libnvinfer_plugin.so.7'; dlerror: libnvinfer_plugin.so.7: cannot open shared object file: No such file or directory\n",
      "2022-12-06 16:24:52.687946: W tensorflow/compiler/tf2tensorrt/utils/py_utils.cc:38] TF-TRT Warning: Cannot dlopen some TensorRT libraries. If you would like to use Nvidia GPU with TensorRT, please make sure the missing libraries mentioned above are installed properly.\n"
     ]
    }
   ],
   "source": [
    "from sccoda.util import comp_ana as mod\n",
    "from sccoda.util import cell_composition_data as dat\n",
    "from sccoda.util import data_visualization as viz"
   ]
  },
  {
   "cell_type": "code",
   "execution_count": 3,
   "metadata": {},
   "outputs": [
    {
     "data": {
      "text/html": [
       "<div>\n",
       "<style scoped>\n",
       "    .dataframe tbody tr th:only-of-type {\n",
       "        vertical-align: middle;\n",
       "    }\n",
       "\n",
       "    .dataframe tbody tr th {\n",
       "        vertical-align: top;\n",
       "    }\n",
       "\n",
       "    .dataframe thead th {\n",
       "        text-align: right;\n",
       "    }\n",
       "</style>\n",
       "<table border=\"1\" class=\"dataframe\">\n",
       "  <thead>\n",
       "    <tr style=\"text-align: right;\">\n",
       "      <th></th>\n",
       "      <th>sample_ID</th>\n",
       "      <th>nCD4TC</th>\n",
       "      <th>mCD4TC</th>\n",
       "      <th>cCD4TC</th>\n",
       "      <th>cCD8TC</th>\n",
       "      <th>gdTC</th>\n",
       "      <th>nBC</th>\n",
       "      <th>mBC</th>\n",
       "      <th>pBC</th>\n",
       "      <th>NK</th>\n",
       "      <th>M14</th>\n",
       "      <th>M16</th>\n",
       "      <th>mDC</th>\n",
       "      <th>pDC</th>\n",
       "    </tr>\n",
       "  </thead>\n",
       "  <tbody>\n",
       "    <tr>\n",
       "      <th>0</th>\n",
       "      <td>BU10</td>\n",
       "      <td>263.5</td>\n",
       "      <td>361.5</td>\n",
       "      <td>23.5</td>\n",
       "      <td>530.5</td>\n",
       "      <td>0.5</td>\n",
       "      <td>29.5</td>\n",
       "      <td>16.5</td>\n",
       "      <td>0.5</td>\n",
       "      <td>515.5</td>\n",
       "      <td>179.5</td>\n",
       "      <td>14.5</td>\n",
       "      <td>13.5</td>\n",
       "      <td>16.5</td>\n",
       "    </tr>\n",
       "    <tr>\n",
       "      <th>1</th>\n",
       "      <td>BU6</td>\n",
       "      <td>164.5</td>\n",
       "      <td>341.5</td>\n",
       "      <td>4.5</td>\n",
       "      <td>341.5</td>\n",
       "      <td>0.5</td>\n",
       "      <td>63.5</td>\n",
       "      <td>38.5</td>\n",
       "      <td>0.5</td>\n",
       "      <td>168.5</td>\n",
       "      <td>289.5</td>\n",
       "      <td>22.5</td>\n",
       "      <td>23.5</td>\n",
       "      <td>21.5</td>\n",
       "    </tr>\n",
       "    <tr>\n",
       "      <th>2</th>\n",
       "      <td>CT1</td>\n",
       "      <td>1335.5</td>\n",
       "      <td>606.5</td>\n",
       "      <td>216.5</td>\n",
       "      <td>20.5</td>\n",
       "      <td>7.5</td>\n",
       "      <td>186.5</td>\n",
       "      <td>147.5</td>\n",
       "      <td>3.5</td>\n",
       "      <td>176.5</td>\n",
       "      <td>458.5</td>\n",
       "      <td>99.5</td>\n",
       "      <td>36.5</td>\n",
       "      <td>13.5</td>\n",
       "    </tr>\n",
       "    <tr>\n",
       "      <th>3</th>\n",
       "      <td>CT2</td>\n",
       "      <td>947.5</td>\n",
       "      <td>399.5</td>\n",
       "      <td>153.5</td>\n",
       "      <td>39.5</td>\n",
       "      <td>57.5</td>\n",
       "      <td>565.5</td>\n",
       "      <td>65.5</td>\n",
       "      <td>5.5</td>\n",
       "      <td>1793.5</td>\n",
       "      <td>533.5</td>\n",
       "      <td>345.5</td>\n",
       "      <td>29.5</td>\n",
       "      <td>18.5</td>\n",
       "    </tr>\n",
       "    <tr>\n",
       "      <th>4</th>\n",
       "      <td>CT3</td>\n",
       "      <td>712.5</td>\n",
       "      <td>168.5</td>\n",
       "      <td>69.5</td>\n",
       "      <td>26.5</td>\n",
       "      <td>16.5</td>\n",
       "      <td>533.5</td>\n",
       "      <td>98.5</td>\n",
       "      <td>6.5</td>\n",
       "      <td>627.5</td>\n",
       "      <td>252.5</td>\n",
       "      <td>43.5</td>\n",
       "      <td>8.5</td>\n",
       "      <td>7.5</td>\n",
       "    </tr>\n",
       "    <tr>\n",
       "      <th>...</th>\n",
       "      <td>...</td>\n",
       "      <td>...</td>\n",
       "      <td>...</td>\n",
       "      <td>...</td>\n",
       "      <td>...</td>\n",
       "      <td>...</td>\n",
       "      <td>...</td>\n",
       "      <td>...</td>\n",
       "      <td>...</td>\n",
       "      <td>...</td>\n",
       "      <td>...</td>\n",
       "      <td>...</td>\n",
       "      <td>...</td>\n",
       "      <td>...</td>\n",
       "    </tr>\n",
       "    <tr>\n",
       "      <th>61</th>\n",
       "      <td>SCN4</td>\n",
       "      <td>261.5</td>\n",
       "      <td>223.5</td>\n",
       "      <td>331.5</td>\n",
       "      <td>423.5</td>\n",
       "      <td>0.5</td>\n",
       "      <td>11.5</td>\n",
       "      <td>79.5</td>\n",
       "      <td>0.5</td>\n",
       "      <td>176.5</td>\n",
       "      <td>288.5</td>\n",
       "      <td>11.5</td>\n",
       "      <td>27.5</td>\n",
       "      <td>7.5</td>\n",
       "    </tr>\n",
       "    <tr>\n",
       "      <th>62</th>\n",
       "      <td>SCN5</td>\n",
       "      <td>131.5</td>\n",
       "      <td>371.5</td>\n",
       "      <td>134.5</td>\n",
       "      <td>487.5</td>\n",
       "      <td>0.5</td>\n",
       "      <td>17.5</td>\n",
       "      <td>23.5</td>\n",
       "      <td>0.5</td>\n",
       "      <td>130.5</td>\n",
       "      <td>322.5</td>\n",
       "      <td>24.5</td>\n",
       "      <td>12.5</td>\n",
       "      <td>5.5</td>\n",
       "    </tr>\n",
       "    <tr>\n",
       "      <th>63</th>\n",
       "      <td>SCN6</td>\n",
       "      <td>463.5</td>\n",
       "      <td>409.5</td>\n",
       "      <td>22.5</td>\n",
       "      <td>258.5</td>\n",
       "      <td>0.5</td>\n",
       "      <td>18.5</td>\n",
       "      <td>16.5</td>\n",
       "      <td>0.5</td>\n",
       "      <td>495.5</td>\n",
       "      <td>296.5</td>\n",
       "      <td>52.5</td>\n",
       "      <td>21.5</td>\n",
       "      <td>10.5</td>\n",
       "    </tr>\n",
       "    <tr>\n",
       "      <th>64</th>\n",
       "      <td>SCN7</td>\n",
       "      <td>8.5</td>\n",
       "      <td>46.5</td>\n",
       "      <td>169.5</td>\n",
       "      <td>1046.5</td>\n",
       "      <td>0.5</td>\n",
       "      <td>52.5</td>\n",
       "      <td>19.5</td>\n",
       "      <td>0.5</td>\n",
       "      <td>202.5</td>\n",
       "      <td>558.5</td>\n",
       "      <td>53.5</td>\n",
       "      <td>23.5</td>\n",
       "      <td>7.5</td>\n",
       "    </tr>\n",
       "    <tr>\n",
       "      <th>65</th>\n",
       "      <td>SCN8</td>\n",
       "      <td>149.5</td>\n",
       "      <td>205.5</td>\n",
       "      <td>84.5</td>\n",
       "      <td>264.5</td>\n",
       "      <td>0.5</td>\n",
       "      <td>23.5</td>\n",
       "      <td>16.5</td>\n",
       "      <td>0.5</td>\n",
       "      <td>358.5</td>\n",
       "      <td>271.5</td>\n",
       "      <td>52.5</td>\n",
       "      <td>7.5</td>\n",
       "      <td>7.5</td>\n",
       "    </tr>\n",
       "  </tbody>\n",
       "</table>\n",
       "<p>66 rows × 14 columns</p>\n",
       "</div>"
      ],
      "text/plain": [
       "   sample_ID  nCD4TC  mCD4TC  cCD4TC  cCD8TC  gdTC    nBC    mBC  pBC      NK  \\\n",
       "0       BU10   263.5   361.5    23.5   530.5   0.5   29.5   16.5  0.5   515.5   \n",
       "1        BU6   164.5   341.5     4.5   341.5   0.5   63.5   38.5  0.5   168.5   \n",
       "2        CT1  1335.5   606.5   216.5    20.5   7.5  186.5  147.5  3.5   176.5   \n",
       "3        CT2   947.5   399.5   153.5    39.5  57.5  565.5   65.5  5.5  1793.5   \n",
       "4        CT3   712.5   168.5    69.5    26.5  16.5  533.5   98.5  6.5   627.5   \n",
       "..       ...     ...     ...     ...     ...   ...    ...    ...  ...     ...   \n",
       "61      SCN4   261.5   223.5   331.5   423.5   0.5   11.5   79.5  0.5   176.5   \n",
       "62      SCN5   131.5   371.5   134.5   487.5   0.5   17.5   23.5  0.5   130.5   \n",
       "63      SCN6   463.5   409.5    22.5   258.5   0.5   18.5   16.5  0.5   495.5   \n",
       "64      SCN7     8.5    46.5   169.5  1046.5   0.5   52.5   19.5  0.5   202.5   \n",
       "65      SCN8   149.5   205.5    84.5   264.5   0.5   23.5   16.5  0.5   358.5   \n",
       "\n",
       "      M14    M16   mDC   pDC  \n",
       "0   179.5   14.5  13.5  16.5  \n",
       "1   289.5   22.5  23.5  21.5  \n",
       "2   458.5   99.5  36.5  13.5  \n",
       "3   533.5  345.5  29.5  18.5  \n",
       "4   252.5   43.5   8.5   7.5  \n",
       "..    ...    ...   ...   ...  \n",
       "61  288.5   11.5  27.5   7.5  \n",
       "62  322.5   24.5  12.5   5.5  \n",
       "63  296.5   52.5  21.5  10.5  \n",
       "64  558.5   53.5  23.5   7.5  \n",
       "65  271.5   52.5   7.5   7.5  \n",
       "\n",
       "[66 rows x 14 columns]"
      ]
     },
     "execution_count": 3,
     "metadata": {},
     "output_type": "execute_result"
    }
   ],
   "source": [
    "#load cell counts of samples per cell type\n",
    "cell_counts = pd.read_csv(\"/restricted/projectnb/uh2-sebas/analysis/scCentenarians/Composition_Multinomial/scCoda_Composition_Analysis/ct_cell_counts.csv\")\n",
    "cell_counts"
   ]
  },
  {
   "cell_type": "code",
   "execution_count": 4,
   "metadata": {},
   "outputs": [
    {
     "data": {
      "text/html": [
       "<div>\n",
       "<style scoped>\n",
       "    .dataframe tbody tr th:only-of-type {\n",
       "        vertical-align: middle;\n",
       "    }\n",
       "\n",
       "    .dataframe tbody tr th {\n",
       "        vertical-align: top;\n",
       "    }\n",
       "\n",
       "    .dataframe thead th {\n",
       "        text-align: right;\n",
       "    }\n",
       "</style>\n",
       "<table border=\"1\" class=\"dataframe\">\n",
       "  <thead>\n",
       "    <tr style=\"text-align: right;\">\n",
       "      <th></th>\n",
       "      <th>sample_ID</th>\n",
       "      <th>age_group</th>\n",
       "      <th>sex</th>\n",
       "      <th>batch</th>\n",
       "    </tr>\n",
       "  </thead>\n",
       "  <tbody>\n",
       "    <tr>\n",
       "      <th>0</th>\n",
       "      <td>BU10</td>\n",
       "      <td>Younger</td>\n",
       "      <td>Female</td>\n",
       "      <td>NECS.B1</td>\n",
       "    </tr>\n",
       "    <tr>\n",
       "      <th>1</th>\n",
       "      <td>BU6</td>\n",
       "      <td>Middle</td>\n",
       "      <td>Male</td>\n",
       "      <td>NECS.B1</td>\n",
       "    </tr>\n",
       "    <tr>\n",
       "      <th>2</th>\n",
       "      <td>CT1</td>\n",
       "      <td>Middle</td>\n",
       "      <td>Male</td>\n",
       "      <td>PNAS</td>\n",
       "    </tr>\n",
       "    <tr>\n",
       "      <th>3</th>\n",
       "      <td>CT2</td>\n",
       "      <td>Older</td>\n",
       "      <td>Female</td>\n",
       "      <td>PNAS</td>\n",
       "    </tr>\n",
       "    <tr>\n",
       "      <th>4</th>\n",
       "      <td>CT3</td>\n",
       "      <td>Older</td>\n",
       "      <td>Female</td>\n",
       "      <td>PNAS</td>\n",
       "    </tr>\n",
       "    <tr>\n",
       "      <th>...</th>\n",
       "      <td>...</td>\n",
       "      <td>...</td>\n",
       "      <td>...</td>\n",
       "      <td>...</td>\n",
       "    </tr>\n",
       "    <tr>\n",
       "      <th>61</th>\n",
       "      <td>SCN4</td>\n",
       "      <td>EL</td>\n",
       "      <td>Female</td>\n",
       "      <td>NECS.B1</td>\n",
       "    </tr>\n",
       "    <tr>\n",
       "      <th>62</th>\n",
       "      <td>SCN5</td>\n",
       "      <td>EL</td>\n",
       "      <td>Female</td>\n",
       "      <td>NECS.B2</td>\n",
       "    </tr>\n",
       "    <tr>\n",
       "      <th>63</th>\n",
       "      <td>SCN6</td>\n",
       "      <td>EL</td>\n",
       "      <td>Male</td>\n",
       "      <td>NECS.B1</td>\n",
       "    </tr>\n",
       "    <tr>\n",
       "      <th>64</th>\n",
       "      <td>SCN7</td>\n",
       "      <td>EL</td>\n",
       "      <td>Male</td>\n",
       "      <td>NECS.B2</td>\n",
       "    </tr>\n",
       "    <tr>\n",
       "      <th>65</th>\n",
       "      <td>SCN8</td>\n",
       "      <td>EL</td>\n",
       "      <td>Female</td>\n",
       "      <td>NECS.B2</td>\n",
       "    </tr>\n",
       "  </tbody>\n",
       "</table>\n",
       "<p>66 rows × 4 columns</p>\n",
       "</div>"
      ],
      "text/plain": [
       "   sample_ID age_group     sex    batch\n",
       "0       BU10   Younger  Female  NECS.B1\n",
       "1        BU6    Middle    Male  NECS.B1\n",
       "2        CT1    Middle    Male     PNAS\n",
       "3        CT2     Older  Female     PNAS\n",
       "4        CT3     Older  Female     PNAS\n",
       "..       ...       ...     ...      ...\n",
       "61      SCN4        EL  Female  NECS.B1\n",
       "62      SCN5        EL  Female  NECS.B2\n",
       "63      SCN6        EL    Male  NECS.B1\n",
       "64      SCN7        EL    Male  NECS.B2\n",
       "65      SCN8        EL  Female  NECS.B2\n",
       "\n",
       "[66 rows x 4 columns]"
      ]
     },
     "execution_count": 4,
     "metadata": {},
     "output_type": "execute_result"
    }
   ],
   "source": [
    "#read in metadata information for each sample\n",
    "sample_metadata = pd.read_csv(\"/restricted/projectnb/uh2-sebas/analysis/scCentenarians/Composition_Multinomial/scCoda_Composition_Analysis/sample_metadata.csv\")\n",
    "sample_metadata = sample_metadata.drop(sample_metadata.columns[[0]], axis=1)\n",
    "sample_metadata"
   ]
  },
  {
   "cell_type": "code",
   "execution_count": 5,
   "metadata": {},
   "outputs": [
    {
     "data": {
      "text/plain": [
       "AnnData object with n_obs × n_vars = 66 × 13\n",
       "    obs: 'sample_ID', 'age_group', 'sex', 'batch'"
      ]
     },
     "execution_count": 5,
     "metadata": {},
     "output_type": "execute_result"
    }
   ],
   "source": [
    "#create anndata object\n",
    "ct_anndat = dat.from_pandas(cell_counts, covariate_columns=[\"sample_ID\"])\n",
    "ct_anndat.obs = sample_metadata\n",
    "ct_anndat"
   ]
  },
  {
   "cell_type": "code",
   "execution_count": 6,
   "metadata": {},
   "outputs": [
    {
     "data": {
      "image/png": "[encoded data removed]",
      "text/plain": [
       "<Figure size 640x480 with 1 Axes>"
      ]
     },
     "metadata": {},
     "output_type": "display_data"
    },
    {
     "data": {
      "image/png": "[encoded data removed]",
      "text/plain": [
       "<Figure size 640x480 with 1 Axes>"
      ]
     },
     "metadata": {},
     "output_type": "display_data"
    }
   ],
   "source": [
    "# Stacked barplot for each sample\n",
    "viz.stacked_barplot(ct_anndat, feature_name=\"sample_ID\")\n",
    "plt.show()\n",
    "\n",
    "# Stacked barplot for the levels of \"age.quartiles\"\n",
    "viz.stacked_barplot(ct_anndat, feature_name=\"age_group\")\n",
    "plt.show()"
   ]
  },
  {
   "cell_type": "code",
   "execution_count": 7,
   "metadata": {},
   "outputs": [
    {
     "data": {
      "image/png": "[encoded data removed]",
      "text/plain": [
       "<Figure size 640x480 with 1 Axes>"
      ]
     },
     "metadata": {},
     "output_type": "display_data"
    }
   ],
   "source": [
    "# Grouped boxplots. No facets, relative abundance, no dots.\n",
    "viz.boxplots(\n",
    "    ct_anndat,\n",
    "    feature_name=\"age_group\",\n",
    "    plot_facets=False,\n",
    "    y_scale=\"relative\",\n",
    "    add_dots=False,\n",
    ")\n",
    "plt.show()\n"
   ]
  },
  {
   "cell_type": "markdown",
   "metadata": {},
   "source": [
    "Run scCODA with each cell type as the reference:"
   ]
  },
  {
   "cell_type": "code",
   "execution_count": 8,
   "metadata": {},
   "outputs": [
    {
     "name": "stdout",
     "output_type": "stream",
     "text": [
      "Reference: nCD4TC\n"
     ]
    },
    {
     "name": "stderr",
     "output_type": "stream",
     "text": [
      "2022-12-06 16:25:18.016152: W tensorflow/stream_executor/platform/default/dso_loader.cc:64] Could not load dynamic library 'libcuda.so.1'; dlerror: libcuda.so.1: cannot open shared object file: No such file or directory\n",
      "2022-12-06 16:25:18.016224: W tensorflow/stream_executor/cuda/cuda_driver.cc:263] failed call to cuInit: UNKNOWN ERROR (303)\n",
      "2022-12-06 16:25:18.016274: I tensorflow/stream_executor/cuda/cuda_diagnostics.cc:156] kernel driver does not appear to be running on this host (scc-ka4): /proc/driver/nvidia/version does not exist\n",
      "2022-12-06 16:25:25.152655: I tensorflow/compiler/xla/service/service.cc:173] XLA service 0x2b3114137a60 initialized for platform Host (this does not guarantee that XLA will be used). Devices:\n",
      "2022-12-06 16:25:25.152827: I tensorflow/compiler/xla/service/service.cc:181]   StreamExecutor device (0): Host, Default Version\n",
      "  0%|          | 0/20000 [00:00<?, ?it/s]2022-12-06 16:25:25.297341: I tensorflow/compiler/mlir/tensorflow/utils/dump_mlir_util.cc:268] disabling MLIR crash reproducer, set env var `MLIR_CRASH_REPRODUCER_DIRECTORY` to enable.\n",
      "2022-12-06 16:25:27.533664: I tensorflow/compiler/jit/xla_compilation_cache.cc:476] Compiled cluster using XLA!  This line is logged at most once for the lifetime of the process.\n",
      "100%|██████████| 20000/20000 [07:57<00:00, 41.92it/s]\n"
     ]
    },
    {
     "name": "stdout",
     "output_type": "stream",
     "text": [
      "MCMC sampling finished. (603.757 sec)\n",
      "Acceptance rate: 66.2%\n",
      "Reference: mCD4TC\n"
     ]
    },
    {
     "name": "stderr",
     "output_type": "stream",
     "text": [
      "100%|██████████| 20000/20000 [07:45<00:00, 43.00it/s]\n"
     ]
    },
    {
     "name": "stdout",
     "output_type": "stream",
     "text": [
      "MCMC sampling finished. (588.157 sec)\n",
      "Acceptance rate: 58.7%\n",
      "Reference: cCD4TC\n"
     ]
    },
    {
     "name": "stderr",
     "output_type": "stream",
     "text": [
      "100%|██████████| 20000/20000 [07:46<00:00, 42.85it/s]\n"
     ]
    },
    {
     "name": "stdout",
     "output_type": "stream",
     "text": [
      "MCMC sampling finished. (592.203 sec)\n",
      "Acceptance rate: 44.3%\n",
      "Reference: cCD8TC\n"
     ]
    },
    {
     "name": "stderr",
     "output_type": "stream",
     "text": [
      "100%|██████████| 20000/20000 [07:55<00:00, 42.02it/s]\n"
     ]
    },
    {
     "name": "stdout",
     "output_type": "stream",
     "text": [
      "MCMC sampling finished. (600.607 sec)\n",
      "Acceptance rate: 39.6%\n",
      "Reference: gdTC\n"
     ]
    },
    {
     "name": "stderr",
     "output_type": "stream",
     "text": [
      "100%|██████████| 20000/20000 [07:49<00:00, 42.62it/s]\n"
     ]
    },
    {
     "name": "stdout",
     "output_type": "stream",
     "text": [
      "WARNING:tensorflow:5 out of the last 5 calls to <function CompositionalModel.sampling.<locals>.sample_mcmc at 0x2b3027c83550> triggered tf.function retracing. Tracing is expensive and the excessive number of tracings could be due to (1) creating @tf.function repeatedly in a loop, (2) passing tensors with different shapes, (3) passing Python objects instead of tensors. For (1), please define your @tf.function outside of the loop. For (2), @tf.function has reduce_retracing=True option that can avoid unnecessary retracing. For (3), please refer to https://www.tensorflow.org/guide/function#controlling_retracing and https://www.tensorflow.org/api_docs/python/tf/function for  more details.\n",
      "MCMC sampling finished. (595.831 sec)\n",
      "Acceptance rate: 54.6%\n",
      "Reference: nBC\n"
     ]
    },
    {
     "name": "stderr",
     "output_type": "stream",
     "text": [
      "100%|██████████| 20000/20000 [07:56<00:00, 41.94it/s]\n"
     ]
    },
    {
     "name": "stdout",
     "output_type": "stream",
     "text": [
      "WARNING:tensorflow:6 out of the last 6 calls to <function CompositionalModel.sampling.<locals>.sample_mcmc at 0x2b30f7e45dc0> triggered tf.function retracing. Tracing is expensive and the excessive number of tracings could be due to (1) creating @tf.function repeatedly in a loop, (2) passing tensors with different shapes, (3) passing Python objects instead of tensors. For (1), please define your @tf.function outside of the loop. For (2), @tf.function has reduce_retracing=True option that can avoid unnecessary retracing. For (3), please refer to https://www.tensorflow.org/guide/function#controlling_retracing and https://www.tensorflow.org/api_docs/python/tf/function for  more details.\n",
      "MCMC sampling finished. (605.517 sec)\n",
      "Acceptance rate: 54.4%\n",
      "Reference: mBC\n"
     ]
    },
    {
     "name": "stderr",
     "output_type": "stream",
     "text": [
      "100%|██████████| 20000/20000 [08:06<00:00, 41.15it/s]\n"
     ]
    },
    {
     "name": "stdout",
     "output_type": "stream",
     "text": [
      "MCMC sampling finished. (615.203 sec)\n",
      "Acceptance rate: 69.6%\n",
      "Reference: pBC\n"
     ]
    },
    {
     "name": "stderr",
     "output_type": "stream",
     "text": [
      "100%|██████████| 20000/20000 [07:55<00:00, 42.11it/s]\n"
     ]
    },
    {
     "name": "stdout",
     "output_type": "stream",
     "text": [
      "MCMC sampling finished. (603.409 sec)\n",
      "Acceptance rate: 40.2%\n",
      "Reference: NK\n"
     ]
    },
    {
     "name": "stderr",
     "output_type": "stream",
     "text": [
      "100%|██████████| 20000/20000 [07:52<00:00, 42.37it/s]\n"
     ]
    },
    {
     "name": "stdout",
     "output_type": "stream",
     "text": [
      "MCMC sampling finished. (597.819 sec)\n",
      "Acceptance rate: 41.9%\n",
      "Reference: M14\n"
     ]
    },
    {
     "name": "stderr",
     "output_type": "stream",
     "text": [
      "100%|██████████| 20000/20000 [07:55<00:00, 42.08it/s]\n"
     ]
    },
    {
     "name": "stdout",
     "output_type": "stream",
     "text": [
      "MCMC sampling finished. (603.695 sec)\n",
      "Acceptance rate: 53.9%\n",
      "Reference: M16\n"
     ]
    },
    {
     "name": "stderr",
     "output_type": "stream",
     "text": [
      "100%|██████████| 20000/20000 [07:57<00:00, 41.87it/s]\n"
     ]
    },
    {
     "name": "stdout",
     "output_type": "stream",
     "text": [
      "MCMC sampling finished. (604.132 sec)\n",
      "Acceptance rate: 56.0%\n",
      "Reference: mDC\n"
     ]
    },
    {
     "name": "stderr",
     "output_type": "stream",
     "text": [
      "100%|██████████| 20000/20000 [07:53<00:00, 42.21it/s]\n"
     ]
    },
    {
     "name": "stdout",
     "output_type": "stream",
     "text": [
      "MCMC sampling finished. (601.985 sec)\n",
      "Acceptance rate: 63.6%\n",
      "Reference: pDC\n"
     ]
    },
    {
     "name": "stderr",
     "output_type": "stream",
     "text": [
      "100%|██████████| 20000/20000 [07:59<00:00, 41.71it/s]\n"
     ]
    },
    {
     "name": "stdout",
     "output_type": "stream",
     "text": [
      "MCMC sampling finished. (602.119 sec)\n",
      "Acceptance rate: 65.6%\n"
     ]
    }
   ],
   "source": [
    "# Run scCODA with each cell type as the reference\n",
    "cell_types = ct_anndat.var.index\n",
    "results_cycle_middle = pd.DataFrame(index=cell_types, columns=[\"times_credible\"]).fillna(0)\n",
    "results_cycle_older = pd.DataFrame(index=cell_types, columns=[\"times_credible\"]).fillna(0)\n",
    "results_cycle_EL = pd.DataFrame(index=cell_types, columns=[\"times_credible\"]).fillna(0)\n",
    "\n",
    "for ct in cell_types:\n",
    "    print(f\"Reference: {ct}\")\n",
    "\n",
    "    # Run inference\n",
    "    model_temp = mod.CompositionalAnalysis(ct_anndat, formula=\"C(age_group, Treatment('Younger')) + C(sex, Treatment('Male'))\", reference_cell_type=ct)\n",
    "    temp_results = model_temp.sample_hmc(num_results=20000)\n",
    "\n",
    "    # Select credible effects\n",
    "    cred_eff_EL = temp_results.credible_effects()[0:12]\n",
    "    cred_eff_EL.index = cred_eff_EL.index.droplevel(level=0)\n",
    "    \n",
    "    cred_eff_middle = temp_results.credible_effects()[13:25]\n",
    "    cred_eff_middle.index = cred_eff_middle.index.droplevel(level=0)\n",
    "    \n",
    "    cred_eff_older = temp_results.credible_effects()[26:38]\n",
    "    cred_eff_older.index = cred_eff_older.index.droplevel(level=0)\n",
    "\n",
    "    # add up credible effects\n",
    "    results_cycle_middle[\"times_credible\"] += cred_eff_middle.astype(\"int\")\n",
    "    results_cycle_older[\"times_credible\"] += cred_eff_older.astype(\"int\")\n",
    "    results_cycle_EL[\"times_credible\"] += cred_eff_EL.astype(\"int\")"
   ]
  },
  {
   "cell_type": "code",
   "execution_count": 9,
   "metadata": {},
   "outputs": [
    {
     "name": "stdout",
     "output_type": "stream",
     "text": [
      "        times_credible  pct_credible  is_credible\n",
      "nCD4TC             0.0      0.000000        False\n",
      "mCD4TC            12.0      0.923077         True\n",
      "cCD4TC             0.0      0.000000        False\n",
      "cCD8TC             0.0      0.000000        False\n",
      "gdTC               0.0      0.000000        False\n",
      "nBC                0.0      0.000000        False\n",
      "mBC                0.0      0.000000        False\n",
      "pBC                0.0      0.000000        False\n",
      "NK                 0.0      0.000000        False\n",
      "M14                0.0      0.000000        False\n",
      "M16                0.0      0.000000        False\n",
      "mDC                0.0      0.000000        False\n",
      "pDC                NaN           NaN        False\n"
     ]
    }
   ],
   "source": [
    "# Calculate percentages credible for middle v. younger comparison\n",
    "results_cycle_middle[\"pct_credible\"] = results_cycle_middle[\"times_credible\"]/len(cell_types)\n",
    "results_cycle_middle[\"is_credible\"] = results_cycle_middle[\"pct_credible\"] > 0.5\n",
    "print(results_cycle_middle)"
   ]
  },
  {
   "cell_type": "code",
   "execution_count": 10,
   "metadata": {},
   "outputs": [
    {
     "name": "stdout",
     "output_type": "stream",
     "text": [
      "        times_credible  pct_credible  is_credible\n",
      "nCD4TC             0.0           0.0        False\n",
      "mCD4TC             0.0           0.0        False\n",
      "cCD4TC             0.0           0.0        False\n",
      "cCD8TC             0.0           0.0        False\n",
      "gdTC               0.0           0.0        False\n",
      "nBC                0.0           0.0        False\n",
      "mBC                0.0           0.0        False\n",
      "pBC                0.0           0.0        False\n",
      "NK                 0.0           0.0        False\n",
      "M14                0.0           0.0        False\n",
      "M16                0.0           0.0        False\n",
      "mDC                0.0           0.0        False\n",
      "pDC                NaN           NaN        False\n"
     ]
    }
   ],
   "source": [
    "# Calculate percentages credible for older v. younger comparison\n",
    "results_cycle_older[\"pct_credible\"] = results_cycle_older[\"times_credible\"]/len(cell_types)\n",
    "results_cycle_older[\"is_credible\"] = results_cycle_older[\"pct_credible\"] > 0.5\n",
    "print(results_cycle_older)"
   ]
  },
  {
   "cell_type": "code",
   "execution_count": 11,
   "metadata": {},
   "outputs": [
    {
     "name": "stdout",
     "output_type": "stream",
     "text": [
      "        times_credible  pct_credible  is_credible\n",
      "nCD4TC            12.0      0.923077         True\n",
      "mCD4TC            11.0      0.846154         True\n",
      "cCD4TC            12.0      0.923077         True\n",
      "cCD8TC             2.0      0.153846        False\n",
      "gdTC               0.0      0.000000        False\n",
      "nBC               10.0      0.769231         True\n",
      "mBC                0.0      0.000000        False\n",
      "pBC                0.0      0.000000        False\n",
      "NK                 1.0      0.076923        False\n",
      "M14                2.0      0.153846        False\n",
      "M16                0.0      0.000000        False\n",
      "mDC                0.0      0.000000        False\n",
      "pDC                NaN           NaN        False\n"
     ]
    }
   ],
   "source": [
    "# Calculate percentages credible for older v. younger comparison\n",
    "results_cycle_EL[\"pct_credible\"] = results_cycle_EL[\"times_credible\"]/len(cell_types)\n",
    "results_cycle_EL[\"is_credible\"] = results_cycle_EL[\"pct_credible\"] > 0.5\n",
    "print(results_cycle_EL)"
   ]
  }
 ],
 "metadata": {
  "kernelspec": {
   "display_name": "mypython3",
   "language": "python",
   "name": "mypython3"
  },
  "language_info": {
   "codemirror_mode": {
    "name": "ipython",
    "version": 3
   },
   "file_extension": ".py",
   "mimetype": "text/x-python",
   "name": "python",
   "nbconvert_exporter": "python",
   "pygments_lexer": "ipython3",
   "version": "3.8.13"
  }
 },
 "nbformat": 4,
 "nbformat_minor": 2
}
